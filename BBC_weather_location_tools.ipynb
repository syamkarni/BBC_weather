{
  "cells": [
    {
      "cell_type": "code",
      "execution_count": 4,
      "metadata": {
        "colab": {
          "base_uri": "https://localhost:8080/"
        },
        "id": "LQcbnbDRjATw",
        "outputId": "bdd52518-0182-4cf0-ba42-ac2c26fb6468"
      },
      "outputs": [
        {
          "name": "stdout",
          "output_type": "stream",
          "text": [
            "Defaulting to user installation because normal site-packages is not writeable\n",
            "Requirement already satisfied: requests in /Users/syamkarniuppalapati/Library/Python/3.9/lib/python/site-packages (2.31.0)\n",
            "Requirement already satisfied: certifi>=2017.4.17 in /Users/syamkarniuppalapati/Library/Python/3.9/lib/python/site-packages (from requests) (2024.2.2)\n",
            "Requirement already satisfied: urllib3<3,>=1.21.1 in /Users/syamkarniuppalapati/Library/Python/3.9/lib/python/site-packages (from requests) (2.2.0)\n",
            "Requirement already satisfied: charset-normalizer<4,>=2 in /Users/syamkarniuppalapati/Library/Python/3.9/lib/python/site-packages (from requests) (3.3.2)\n",
            "Requirement already satisfied: idna<4,>=2.5 in /Users/syamkarniuppalapati/Library/Python/3.9/lib/python/site-packages (from requests) (3.6)\n",
            "\u001b[33mWARNING: You are using pip version 21.2.4; however, version 24.0 is available.\n",
            "You should consider upgrading via the '/Library/Developer/CommandLineTools/usr/bin/python3 -m pip install --upgrade pip' command.\u001b[0m\n",
            "Note: you may need to restart the kernel to use updated packages.\n",
            "Defaulting to user installation because normal site-packages is not writeable\n",
            "Requirement already satisfied: pandas in /Users/syamkarniuppalapati/Library/Python/3.9/lib/python/site-packages (2.2.0)\n",
            "Requirement already satisfied: numpy<2,>=1.22.4 in /Users/syamkarniuppalapati/Library/Python/3.9/lib/python/site-packages (from pandas) (1.26.4)\n",
            "Requirement already satisfied: python-dateutil>=2.8.2 in /Users/syamkarniuppalapati/Library/Python/3.9/lib/python/site-packages (from pandas) (2.8.2)\n",
            "Requirement already satisfied: pytz>=2020.1 in /Users/syamkarniuppalapati/Library/Python/3.9/lib/python/site-packages (from pandas) (2024.1)\n",
            "Requirement already satisfied: tzdata>=2022.7 in /Users/syamkarniuppalapati/Library/Python/3.9/lib/python/site-packages (from pandas) (2023.4)\n",
            "Requirement already satisfied: six>=1.5 in /Library/Developer/CommandLineTools/Library/Frameworks/Python3.framework/Versions/3.9/lib/python3.9/site-packages (from python-dateutil>=2.8.2->pandas) (1.15.0)\n",
            "\u001b[33mWARNING: You are using pip version 21.2.4; however, version 24.0 is available.\n",
            "You should consider upgrading via the '/Library/Developer/CommandLineTools/usr/bin/python3 -m pip install --upgrade pip' command.\u001b[0m\n",
            "Note: you may need to restart the kernel to use updated packages.\n"
          ]
        }
      ],
      "source": [
        "%pip install requests\n",
        "%pip install --upgrade pandas"
      ]
    },
    {
      "cell_type": "code",
      "execution_count": 5,
      "metadata": {
        "id": "c6H8TjFmjC7a"
      },
      "outputs": [
        {
          "name": "stderr",
          "output_type": "stream",
          "text": [
            "/Users/syamkarniuppalapati/Library/Python/3.9/lib/python/site-packages/urllib3/__init__.py:35: NotOpenSSLWarning: urllib3 v2 only supports OpenSSL 1.1.1+, currently the 'ssl' module is compiled with 'LibreSSL 2.8.3'. See: https://github.com/urllib3/urllib3/issues/3020\n",
            "  warnings.warn(\n",
            "/var/folders/ss/krqqzng91_j9yfk0_bsk_sjm0000gn/T/ipykernel_2188/2667943722.py:7: DeprecationWarning: \n",
            "Pyarrow will become a required dependency of pandas in the next major release of pandas (pandas 3.0),\n",
            "(to allow more performant data types, such as the Arrow string type, and better interoperability with other libraries)\n",
            "but was not found to be installed on your system.\n",
            "If this would cause problems for you,\n",
            "please provide us feedback at https://github.com/pandas-dev/pandas/issues/54466\n",
            "        \n",
            "  import pandas as pd\n"
          ]
        }
      ],
      "source": [
        "import os\n",
        "import requests\n",
        "import json\n",
        "from urllib.parse import urlencode\n",
        "from bs4 import BeautifulSoup\n",
        "import numpy as np\n",
        "import pandas as pd\n",
        "import re\n",
        "from datetime import datetime"
      ]
    },
    {
      "cell_type": "code",
      "execution_count": 7,
      "metadata": {
        "colab": {
          "base_uri": "https://localhost:8080/",
          "height": 52
        },
        "id": "r3K_HzJN912Y",
        "outputId": "21069415-d678-4054-8ae5-9975cb7c860a"
      },
      "outputs": [
        {
          "data": {
            "text/plain": [
              "'https://locator-service.api.bbci.co.uk/locations?api_key=AGbFAKx58hyjQScCXIYrxuEwJh2W2cmv&s=Chennai&stack=aws&locale=en&filter=international&place-types=settlement%2Cairport%2Cdistrict&a=true&format=json'"
            ]
          },
          "execution_count": 7,
          "metadata": {},
          "output_type": "execute_result"
        }
      ],
      "source": [
        "test_city= \"Chennai\"\n",
        "location_url='https://locator-service.api.bbci.co.uk/locations?' + urlencode({\n",
        "    'api_key' : 'AGbFAKx58hyjQScCXIYrxuEwJh2W2cmv',\n",
        "    's' : test_city,\n",
        "    'stack' : 'aws',\n",
        "    'locale' : 'en',\n",
        "    'filter' : 'international',\n",
        "    'place-types' : 'settlement,airport,district',\n",
        "    'a' : 'true',\n",
        "    'format' : 'json'\n",
        "})\n",
        "location_url"
      ]
    },
    {
      "cell_type": "code",
      "execution_count": 8,
      "metadata": {
        "colab": {
          "base_uri": "https://localhost:8080/"
        },
        "id": "W_t2epED_ZEC",
        "outputId": "6ba3a912-f69b-4d0f-d97a-4aaa137b2bfc"
      },
      "outputs": [
        {
          "data": {
            "text/plain": [
              "{'response': {'results': {'results': [{'id': '1264527',\n",
              "     'name': 'Chennai',\n",
              "     'container': 'India',\n",
              "     'containerId': 1269750,\n",
              "     'language': 'en',\n",
              "     'timezone': 'Asia/Kolkata',\n",
              "     'country': 'IN',\n",
              "     'latitude': 13.08784,\n",
              "     'longitude': 80.27847,\n",
              "     'placeType': 'settlement'},\n",
              "    {'id': '6301127',\n",
              "     'name': 'Chennai International Airport',\n",
              "     'container': 'India',\n",
              "     'containerId': 1269750,\n",
              "     'language': 'en',\n",
              "     'timezone': 'Asia/Kolkata',\n",
              "     'country': 'IN',\n",
              "     'latitude': 12.98833,\n",
              "     'longitude': 80.16578,\n",
              "     'placeType': 'airport'}],\n",
              "   'totalResults': 2}}}"
            ]
          },
          "execution_count": 8,
          "metadata": {},
          "output_type": "execute_result"
        }
      ],
      "source": [
        "result=requests.get(location_url).json()\n",
        "result"
      ]
    },
    {
      "cell_type": "code",
      "execution_count": 9,
      "metadata": {
        "colab": {
          "base_uri": "https://localhost:8080/",
          "height": 35
        },
        "id": "HiKMVdsjARX9",
        "outputId": "3c2bee66-08b4-4c4c-faae-71b6d1c977f6"
      },
      "outputs": [
        {
          "data": {
            "text/plain": [
              "'1264527'"
            ]
          },
          "execution_count": 9,
          "metadata": {},
          "output_type": "execute_result"
        }
      ],
      "source": [
        "###print location id  ###\n",
        "result['response']['results']['results'][0]['id']"
      ]
    },
    {
      "cell_type": "markdown",
      "metadata": {
        "id": "WT38spCfA40J"
      },
      "source": [
        "Final function for getting the location id with the help of the location name or the city name\n"
      ]
    },
    {
      "cell_type": "code",
      "execution_count": 10,
      "metadata": {
        "id": "jBs3YBFaA9Cb"
      },
      "outputs": [],
      "source": [
        "def getlocationid(city):\n",
        "  city=city.lower()\n",
        "  location_url='https://locator-service.api.bbci.co.uk/locations?' + urlencode({\n",
        "    'api_key' : 'AGbFAKx58hyjQScCXIYrxuEwJh2W2cmv',\n",
        "    's' : test_city,\n",
        "    'stack' : 'aws',\n",
        "    'locale' : 'en',\n",
        "    'filter' : 'international',\n",
        "    'place-types' : 'settlement,airport,district',\n",
        "    'a' : 'true',\n",
        "    'format' : 'json'\n",
        "})\n",
        "  result=requests.get(location_url).json()\n",
        "  location=result['response']['results']['results'][0]['id']\n",
        "  return location"
      ]
    },
    {
      "cell_type": "code",
      "execution_count": 11,
      "metadata": {
        "colab": {
          "base_uri": "https://localhost:8080/",
          "height": 35
        },
        "id": "UXolPTLqBMUk",
        "outputId": "f15e1ef1-8a55-49fc-b61a-bf5e055bc43e"
      },
      "outputs": [
        {
          "data": {
            "text/plain": [
              "'1264527'"
            ]
          },
          "execution_count": 11,
          "metadata": {},
          "output_type": "execute_result"
        }
      ],
      "source": [
        "getlocationid(\"Mumbi\")"
      ]
    },
    {
      "cell_type": "code",
      "execution_count": 12,
      "metadata": {
        "id": "_0g7crlB-8PF"
      },
      "outputs": [],
      "source": [
        "url='https://www.bbc.com/weather/'+ result['response']['results']['results'][0]['id']\n",
        "response=requests.get(url)"
      ]
    },
    {
      "cell_type": "markdown",
      "metadata": {
        "id": "FYixuJt__lOv"
      },
      "source": [
        "Initiating an instense with beautifulsoup"
      ]
    },
    {
      "cell_type": "code",
      "execution_count": 13,
      "metadata": {
        "id": "zRHRO7IR_iok"
      },
      "outputs": [],
      "source": [
        "soup=BeautifulSoup(response.content,'html.parser')"
      ]
    },
    {
      "cell_type": "code",
      "execution_count": 14,
      "metadata": {
        "colab": {
          "base_uri": "https://localhost:8080/"
        },
        "id": "aWkM_1ldALzm",
        "outputId": "81c96ceb-94ed-447b-fed1-4f2985155160"
      },
      "outputs": [
        {
          "data": {
            "text/plain": [
              "[<span class=\"wr-day-temperature__high-value\"><span class=\"wr-value--temperature\"><span class=\"wr-value--temperature--c\">30°</span><span class=\"wr-hide\"> </span><span class=\"wr-value--temperature--f\">86°</span></span></span>,\n",
              " <span class=\"wr-day-temperature__high-value\"><span class=\"wr-value--temperature\"><span class=\"wr-value--temperature--c\">30°</span><span class=\"wr-hide\"> </span><span class=\"wr-value--temperature--f\">86°</span></span></span>,\n",
              " <span class=\"wr-day-temperature__high-value\"><span class=\"wr-value--temperature\"><span class=\"wr-value--temperature--c\">30°</span><span class=\"wr-hide\"> </span><span class=\"wr-value--temperature--f\">87°</span></span></span>,\n",
              " <span class=\"wr-day-temperature__high-value\"><span class=\"wr-value--temperature\"><span class=\"wr-value--temperature--c\">31°</span><span class=\"wr-hide\"> </span><span class=\"wr-value--temperature--f\">87°</span></span></span>,\n",
              " <span class=\"wr-day-temperature__high-value\"><span class=\"wr-value--temperature\"><span class=\"wr-value--temperature--c\">31°</span><span class=\"wr-hide\"> </span><span class=\"wr-value--temperature--f\">87°</span></span></span>,\n",
              " <span class=\"wr-day-temperature__high-value\"><span class=\"wr-value--temperature\"><span class=\"wr-value--temperature--c\">31°</span><span class=\"wr-hide\"> </span><span class=\"wr-value--temperature--f\">87°</span></span></span>,\n",
              " <span class=\"wr-day-temperature__high-value\"><span class=\"wr-value--temperature\"><span class=\"wr-value--temperature--c\">31°</span><span class=\"wr-hide\"> </span><span class=\"wr-value--temperature--f\">88°</span></span></span>,\n",
              " <span class=\"wr-day-temperature__high-value\"><span class=\"wr-value--temperature\"><span class=\"wr-value--temperature--c\">31°</span><span class=\"wr-hide\"> </span><span class=\"wr-value--temperature--f\">88°</span></span></span>,\n",
              " <span class=\"wr-day-temperature__high-value\"><span class=\"wr-value--temperature\"><span class=\"wr-value--temperature--c\">31°</span><span class=\"wr-hide\"> </span><span class=\"wr-value--temperature--f\">89°</span></span></span>,\n",
              " <span class=\"wr-day-temperature__high-value\"><span class=\"wr-value--temperature\"><span class=\"wr-value--temperature--c\">32°</span><span class=\"wr-hide\"> </span><span class=\"wr-value--temperature--f\">89°</span></span></span>,\n",
              " <span class=\"wr-day-temperature__high-value\"><span class=\"wr-value--temperature\"><span class=\"wr-value--temperature--c\">32°</span><span class=\"wr-hide\"> </span><span class=\"wr-value--temperature--f\">90°</span></span></span>,\n",
              " <span class=\"wr-day-temperature__high-value\"><span class=\"wr-value--temperature\"><span class=\"wr-value--temperature--c\">33°</span><span class=\"wr-hide\"> </span><span class=\"wr-value--temperature--f\">91°</span></span></span>,\n",
              " <span class=\"wr-day-temperature__high-value\"><span class=\"wr-value--temperature\"><span class=\"wr-value--temperature--c\">32°</span><span class=\"wr-hide\"> </span><span class=\"wr-value--temperature--f\">90°</span></span></span>]"
            ]
          },
          "execution_count": 14,
          "metadata": {},
          "output_type": "execute_result"
        }
      ],
      "source": [
        "daily_high_values=soup.find_all('span', attrs={'class':'wr-day-temperature__high-value'})\n",
        "daily_high_values"
      ]
    },
    {
      "cell_type": "code",
      "execution_count": 15,
      "metadata": {
        "colab": {
          "base_uri": "https://localhost:8080/"
        },
        "id": "S0zBCq9OAfKr",
        "outputId": "2ca172e5-1c45-4170-f86b-85d97cb14134"
      },
      "outputs": [
        {
          "data": {
            "text/plain": [
              "[<span class=\"wr-day-temperature__low-value\"><span class=\"wr-value--temperature\"><span class=\"wr-value--temperature--c\">25°</span><span class=\"wr-hide\"> </span><span class=\"wr-value--temperature--f\">77°</span></span></span>,\n",
              " <span class=\"wr-day-temperature__low-value\"><span class=\"wr-value--temperature\"><span class=\"wr-value--temperature--c\">21°</span><span class=\"wr-hide\"> </span><span class=\"wr-value--temperature--f\">70°</span></span></span>,\n",
              " <span class=\"wr-day-temperature__low-value\"><span class=\"wr-value--temperature\"><span class=\"wr-value--temperature--c\">23°</span><span class=\"wr-hide\"> </span><span class=\"wr-value--temperature--f\">73°</span></span></span>,\n",
              " <span class=\"wr-day-temperature__low-value\"><span class=\"wr-value--temperature\"><span class=\"wr-value--temperature--c\">23°</span><span class=\"wr-hide\"> </span><span class=\"wr-value--temperature--f\">73°</span></span></span>,\n",
              " <span class=\"wr-day-temperature__low-value\"><span class=\"wr-value--temperature\"><span class=\"wr-value--temperature--c\">21°</span><span class=\"wr-hide\"> </span><span class=\"wr-value--temperature--f\">70°</span></span></span>,\n",
              " <span class=\"wr-day-temperature__low-value\"><span class=\"wr-value--temperature\"><span class=\"wr-value--temperature--c\">21°</span><span class=\"wr-hide\"> </span><span class=\"wr-value--temperature--f\">70°</span></span></span>,\n",
              " <span class=\"wr-day-temperature__low-value\"><span class=\"wr-value--temperature\"><span class=\"wr-value--temperature--c\">21°</span><span class=\"wr-hide\"> </span><span class=\"wr-value--temperature--f\">70°</span></span></span>,\n",
              " <span class=\"wr-day-temperature__low-value\"><span class=\"wr-value--temperature\"><span class=\"wr-value--temperature--c\">21°</span><span class=\"wr-hide\"> </span><span class=\"wr-value--temperature--f\">69°</span></span></span>,\n",
              " <span class=\"wr-day-temperature__low-value\"><span class=\"wr-value--temperature\"><span class=\"wr-value--temperature--c\">21°</span><span class=\"wr-hide\"> </span><span class=\"wr-value--temperature--f\">70°</span></span></span>,\n",
              " <span class=\"wr-day-temperature__low-value\"><span class=\"wr-value--temperature\"><span class=\"wr-value--temperature--c\">21°</span><span class=\"wr-hide\"> </span><span class=\"wr-value--temperature--f\">70°</span></span></span>,\n",
              " <span class=\"wr-day-temperature__low-value\"><span class=\"wr-value--temperature\"><span class=\"wr-value--temperature--c\">21°</span><span class=\"wr-hide\"> </span><span class=\"wr-value--temperature--f\">71°</span></span></span>,\n",
              " <span class=\"wr-day-temperature__low-value\"><span class=\"wr-value--temperature\"><span class=\"wr-value--temperature--c\">22°</span><span class=\"wr-hide\"> </span><span class=\"wr-value--temperature--f\">72°</span></span></span>,\n",
              " <span class=\"wr-day-temperature__low-value\"><span class=\"wr-value--temperature\"><span class=\"wr-value--temperature--c\">23°</span><span class=\"wr-hide\"> </span><span class=\"wr-value--temperature--f\">73°</span></span></span>,\n",
              " <span class=\"wr-day-temperature__low-value\"><span class=\"wr-value--temperature\"><span class=\"wr-value--temperature--c\">23°</span><span class=\"wr-hide\"> </span><span class=\"wr-value--temperature--f\">74°</span></span></span>]"
            ]
          },
          "execution_count": 15,
          "metadata": {},
          "output_type": "execute_result"
        }
      ],
      "source": [
        "daily_low_values=soup.find_all('span', attrs={'class':'wr-day-temperature__low-value'})\n",
        "daily_low_values"
      ]
    },
    {
      "cell_type": "code",
      "execution_count": 16,
      "metadata": {
        "colab": {
          "base_uri": "https://localhost:8080/"
        },
        "id": "44qVVTfLAjWJ",
        "outputId": "ba2bf96f-0db6-4973-e487-ab3cdb1f0805"
      },
      "outputs": [
        {
          "data": {
            "text/plain": [
              "<div class=\"wr-day-summary\"><div class=\"gel-wrap\"><span class=\"\">Partly cloudy and light winds</span><span class=\"wr-hide\">Sunny and a gentle breeze</span><span class=\"wr-hide\">Sunny and a gentle breeze</span><span class=\"wr-hide\">Sunny intervals and a gentle breeze</span><span class=\"wr-hide\">Sunny intervals and a gentle breeze</span><span class=\"wr-hide\">Sunny and a gentle breeze</span><span class=\"wr-hide\">Sunny and a gentle breeze</span><span class=\"wr-hide\">Sunny and a gentle breeze</span><span class=\"wr-hide\">Sunny and a gentle breeze</span><span class=\"wr-hide\">Sunny and a gentle breeze</span><span class=\"wr-hide\">Sunny and a gentle breeze</span><span class=\"wr-hide\">Sunny and a gentle breeze</span><span class=\"wr-hide\">Sunny and a moderate breeze</span><span class=\"wr-hide\">Sunny intervals and a moderate breeze</span></div></div>"
            ]
          },
          "execution_count": 16,
          "metadata": {},
          "output_type": "execute_result"
        }
      ],
      "source": [
        "daily_summary=soup.find('div', attrs={'class':'wr-day-summary'})\n",
        "daily_summary"
      ]
    },
    {
      "cell_type": "code",
      "execution_count": 17,
      "metadata": {
        "colab": {
          "base_uri": "https://localhost:8080/",
          "height": 69
        },
        "id": "cVVMUqmOAwOI",
        "outputId": "1c46b945-d84e-49c3-ac6e-fb7572bf3c08"
      },
      "outputs": [
        {
          "data": {
            "text/plain": [
              "'Partly cloudy and light windsSunny and a gentle breezeSunny and a gentle breezeSunny intervals and a gentle breezeSunny intervals and a gentle breezeSunny and a gentle breezeSunny and a gentle breezeSunny and a gentle breezeSunny and a gentle breezeSunny and a gentle breezeSunny and a gentle breezeSunny and a gentle breezeSunny and a moderate breezeSunny intervals and a moderate breeze'"
            ]
          },
          "execution_count": 17,
          "metadata": {},
          "output_type": "execute_result"
        }
      ],
      "source": [
        "daily_summary.text"
      ]
    },
    {
      "cell_type": "code",
      "execution_count": 18,
      "metadata": {
        "colab": {
          "base_uri": "https://localhost:8080/"
        },
        "id": "PrkbIZNYBuWX",
        "outputId": "c64d2a72-3b0e-4492-9c22-014a9d9208d8"
      },
      "outputs": [
        {
          "data": {
            "text/plain": [
              "['Partly cloudy and light winds',\n",
              " 'Sunny and a gentle breeze',\n",
              " 'Sunny and a gentle breeze',\n",
              " 'Sunny intervals and a gentle breeze',\n",
              " 'Sunny intervals and a gentle breeze',\n",
              " 'Sunny and a gentle breeze',\n",
              " 'Sunny and a gentle breeze',\n",
              " 'Sunny and a gentle breeze',\n",
              " 'Sunny and a gentle breeze',\n",
              " 'Sunny and a gentle breeze',\n",
              " 'Sunny and a gentle breeze',\n",
              " 'Sunny and a gentle breeze',\n",
              " 'Sunny and a moderate breeze',\n",
              " 'Sunny intervals and a moderate breeze']"
            ]
          },
          "execution_count": 18,
          "metadata": {},
          "output_type": "execute_result"
        }
      ],
      "source": [
        "daily_summary_list=re.findall('[a-zA-Z][^A-Z]*',daily_summary.text) #splitting the summary part\n",
        "daily_summary_list"
      ]
    },
    {
      "cell_type": "code",
      "execution_count": 19,
      "metadata": {
        "colab": {
          "base_uri": "https://localhost:8080/",
          "height": 35
        },
        "id": "fpSlGeEzBXby",
        "outputId": "221f1bf3-70f6-42c7-ced0-72127c518ea2"
      },
      "outputs": [
        {
          "data": {
            "text/plain": [
              "'30° 86°'"
            ]
          },
          "execution_count": 19,
          "metadata": {},
          "output_type": "execute_result"
        }
      ],
      "source": [
        "daily_high_values[0].text.strip()"
      ]
    },
    {
      "cell_type": "code",
      "execution_count": 20,
      "metadata": {
        "colab": {
          "base_uri": "https://localhost:8080/",
          "height": 35
        },
        "id": "GJDvvZQkBcpy",
        "outputId": "253ef514-8ca9-4c20-8c31-988b0f004f56"
      },
      "outputs": [
        {
          "data": {
            "text/plain": [
              "'31° 87°'"
            ]
          },
          "execution_count": 20,
          "metadata": {},
          "output_type": "execute_result"
        }
      ],
      "source": [
        "daily_high_values[5].text.strip()"
      ]
    },
    {
      "cell_type": "code",
      "execution_count": 21,
      "metadata": {
        "colab": {
          "base_uri": "https://localhost:8080/",
          "height": 35
        },
        "id": "f_Emq91gBgSt",
        "outputId": "69cc49f3-d2f2-4eb2-9943-617a1e74cdb1"
      },
      "outputs": [
        {
          "data": {
            "text/plain": [
              "'31°'"
            ]
          },
          "execution_count": 21,
          "metadata": {},
          "output_type": "execute_result"
        }
      ],
      "source": [
        "daily_high_values[3].text.strip().split()[0]"
      ]
    },
    {
      "cell_type": "code",
      "execution_count": 22,
      "metadata": {
        "colab": {
          "base_uri": "https://localhost:8080/"
        },
        "id": "Kh46vuwtBsVh",
        "outputId": "c1bca820-69e2-4114-ce39-df52b17cb4aa"
      },
      "outputs": [
        {
          "data": {
            "text/plain": [
              "['25°',\n",
              " '21°',\n",
              " '23°',\n",
              " '23°',\n",
              " '21°',\n",
              " '21°',\n",
              " '21°',\n",
              " '21°',\n",
              " '21°',\n",
              " '21°',\n",
              " '21°',\n",
              " '22°',\n",
              " '23°',\n",
              " '23°']"
            ]
          },
          "execution_count": 22,
          "metadata": {},
          "output_type": "execute_result"
        }
      ],
      "source": [
        "daily_low_value_list=[daily_low_values[i].text.strip().split()[0] for i in range(len(daily_low_values))]\n",
        "daily_low_value_list"
      ]
    },
    {
      "cell_type": "code",
      "execution_count": 23,
      "metadata": {
        "colab": {
          "base_uri": "https://localhost:8080/"
        },
        "id": "BeefSQi5wYrc",
        "outputId": "9732f81b-bd45-4b3b-fdb3-a77e1e63f56b"
      },
      "outputs": [
        {
          "data": {
            "text/plain": [
              "['30°',\n",
              " '30°',\n",
              " '30°',\n",
              " '31°',\n",
              " '31°',\n",
              " '31°',\n",
              " '31°',\n",
              " '31°',\n",
              " '31°',\n",
              " '32°',\n",
              " '32°',\n",
              " '33°',\n",
              " '32°']"
            ]
          },
          "execution_count": 23,
          "metadata": {},
          "output_type": "execute_result"
        }
      ],
      "source": [
        "daily_high_value_list=[daily_high_values[i].text.strip().split()[0] for i in range(len(daily_high_values))]\n",
        "daily_high_value_list"
      ]
    },
    {
      "cell_type": "code",
      "execution_count": 25,
      "metadata": {
        "colab": {
          "base_uri": "https://localhost:8080/"
        },
        "id": "rbDNT6guXBTe",
        "outputId": "b649135c-05f6-4a0f-e315-626f81b238e7"
      },
      "outputs": [
        {
          "data": {
            "text/plain": [
              "[Timestamp('2024-02-11 03:06:02.350174'),\n",
              " Timestamp('2024-02-12 03:06:02.350174'),\n",
              " Timestamp('2024-02-13 03:06:02.350174'),\n",
              " Timestamp('2024-02-14 03:06:02.350174'),\n",
              " Timestamp('2024-02-15 03:06:02.350174'),\n",
              " Timestamp('2024-02-16 03:06:02.350174'),\n",
              " Timestamp('2024-02-17 03:06:02.350174'),\n",
              " Timestamp('2024-02-18 03:06:02.350174'),\n",
              " Timestamp('2024-02-19 03:06:02.350174'),\n",
              " Timestamp('2024-02-20 03:06:02.350174'),\n",
              " Timestamp('2024-02-21 03:06:02.350174'),\n",
              " Timestamp('2024-02-22 03:06:02.350174'),\n",
              " Timestamp('2024-02-23 03:06:02.350174')]"
            ]
          },
          "execution_count": 25,
          "metadata": {},
          "output_type": "execute_result"
        }
      ],
      "source": [
        "datelist=pd.date_range(datetime.today(), periods=len(daily_high_values)).tolist()\n",
        "datelist"
      ]
    },
    {
      "cell_type": "code",
      "execution_count": 26,
      "metadata": {
        "colab": {
          "base_uri": "https://localhost:8080/"
        },
        "id": "VtEy2YO7Y_DR",
        "outputId": "2e3f7191-7c37-40a9-b15d-2973b98e50ae"
      },
      "outputs": [
        {
          "data": {
            "text/plain": [
              "['24-02-11',\n",
              " '24-02-12',\n",
              " '24-02-13',\n",
              " '24-02-14',\n",
              " '24-02-15',\n",
              " '24-02-16',\n",
              " '24-02-17',\n",
              " '24-02-18',\n",
              " '24-02-19',\n",
              " '24-02-20',\n",
              " '24-02-21',\n",
              " '24-02-22',\n",
              " '24-02-23']"
            ]
          },
          "execution_count": 26,
          "metadata": {},
          "output_type": "execute_result"
        }
      ],
      "source": [
        "datelist=[datelist[i].date().strftime('%y-%m-%d') for i in range(len(datelist))]\n",
        "datelist"
      ]
    },
    {
      "cell_type": "code",
      "execution_count": 27,
      "metadata": {
        "id": "GPXtfIE8ZdEF"
      },
      "outputs": [],
      "source": [
        "zipped=zip(datelist, daily_high_value_list, daily_low_value_list, daily_summary_list)"
      ]
    },
    {
      "cell_type": "code",
      "execution_count": 28,
      "metadata": {
        "id": "EOGlZ3Otap4x"
      },
      "outputs": [],
      "source": [
        "df=pd.DataFrame(list(zipped),columns=['Date', 'High', 'Low', 'Summary'])"
      ]
    },
    {
      "cell_type": "code",
      "execution_count": 29,
      "metadata": {
        "colab": {
          "base_uri": "https://localhost:8080/",
          "height": 623
        },
        "id": "DfhEhgE1a13p",
        "outputId": "aee85bc7-d497-4fdd-865f-8cf852a9514c"
      },
      "outputs": [
        {
          "data": {
            "text/html": [
              "<div>\n",
              "<style scoped>\n",
              "    .dataframe tbody tr th:only-of-type {\n",
              "        vertical-align: middle;\n",
              "    }\n",
              "\n",
              "    .dataframe tbody tr th {\n",
              "        vertical-align: top;\n",
              "    }\n",
              "\n",
              "    .dataframe thead th {\n",
              "        text-align: right;\n",
              "    }\n",
              "</style>\n",
              "<table border=\"1\" class=\"dataframe\">\n",
              "  <thead>\n",
              "    <tr style=\"text-align: right;\">\n",
              "      <th></th>\n",
              "      <th>Date</th>\n",
              "      <th>High</th>\n",
              "      <th>Low</th>\n",
              "      <th>Summary</th>\n",
              "    </tr>\n",
              "  </thead>\n",
              "  <tbody>\n",
              "    <tr>\n",
              "      <th>0</th>\n",
              "      <td>24-02-11</td>\n",
              "      <td>30°</td>\n",
              "      <td>25°</td>\n",
              "      <td>Partly cloudy and light winds</td>\n",
              "    </tr>\n",
              "    <tr>\n",
              "      <th>1</th>\n",
              "      <td>24-02-12</td>\n",
              "      <td>30°</td>\n",
              "      <td>21°</td>\n",
              "      <td>Sunny and a gentle breeze</td>\n",
              "    </tr>\n",
              "    <tr>\n",
              "      <th>2</th>\n",
              "      <td>24-02-13</td>\n",
              "      <td>30°</td>\n",
              "      <td>23°</td>\n",
              "      <td>Sunny and a gentle breeze</td>\n",
              "    </tr>\n",
              "    <tr>\n",
              "      <th>3</th>\n",
              "      <td>24-02-14</td>\n",
              "      <td>31°</td>\n",
              "      <td>23°</td>\n",
              "      <td>Sunny intervals and a gentle breeze</td>\n",
              "    </tr>\n",
              "    <tr>\n",
              "      <th>4</th>\n",
              "      <td>24-02-15</td>\n",
              "      <td>31°</td>\n",
              "      <td>21°</td>\n",
              "      <td>Sunny intervals and a gentle breeze</td>\n",
              "    </tr>\n",
              "    <tr>\n",
              "      <th>5</th>\n",
              "      <td>24-02-16</td>\n",
              "      <td>31°</td>\n",
              "      <td>21°</td>\n",
              "      <td>Sunny and a gentle breeze</td>\n",
              "    </tr>\n",
              "    <tr>\n",
              "      <th>6</th>\n",
              "      <td>24-02-17</td>\n",
              "      <td>31°</td>\n",
              "      <td>21°</td>\n",
              "      <td>Sunny and a gentle breeze</td>\n",
              "    </tr>\n",
              "    <tr>\n",
              "      <th>7</th>\n",
              "      <td>24-02-18</td>\n",
              "      <td>31°</td>\n",
              "      <td>21°</td>\n",
              "      <td>Sunny and a gentle breeze</td>\n",
              "    </tr>\n",
              "    <tr>\n",
              "      <th>8</th>\n",
              "      <td>24-02-19</td>\n",
              "      <td>31°</td>\n",
              "      <td>21°</td>\n",
              "      <td>Sunny and a gentle breeze</td>\n",
              "    </tr>\n",
              "    <tr>\n",
              "      <th>9</th>\n",
              "      <td>24-02-20</td>\n",
              "      <td>32°</td>\n",
              "      <td>21°</td>\n",
              "      <td>Sunny and a gentle breeze</td>\n",
              "    </tr>\n",
              "    <tr>\n",
              "      <th>10</th>\n",
              "      <td>24-02-21</td>\n",
              "      <td>32°</td>\n",
              "      <td>21°</td>\n",
              "      <td>Sunny and a gentle breeze</td>\n",
              "    </tr>\n",
              "    <tr>\n",
              "      <th>11</th>\n",
              "      <td>24-02-22</td>\n",
              "      <td>33°</td>\n",
              "      <td>22°</td>\n",
              "      <td>Sunny and a gentle breeze</td>\n",
              "    </tr>\n",
              "    <tr>\n",
              "      <th>12</th>\n",
              "      <td>24-02-23</td>\n",
              "      <td>32°</td>\n",
              "      <td>23°</td>\n",
              "      <td>Sunny and a moderate breeze</td>\n",
              "    </tr>\n",
              "  </tbody>\n",
              "</table>\n",
              "</div>"
            ],
            "text/plain": [
              "        Date High  Low                              Summary\n",
              "0   24-02-11  30°  25°        Partly cloudy and light winds\n",
              "1   24-02-12  30°  21°            Sunny and a gentle breeze\n",
              "2   24-02-13  30°  23°            Sunny and a gentle breeze\n",
              "3   24-02-14  31°  23°  Sunny intervals and a gentle breeze\n",
              "4   24-02-15  31°  21°  Sunny intervals and a gentle breeze\n",
              "5   24-02-16  31°  21°            Sunny and a gentle breeze\n",
              "6   24-02-17  31°  21°            Sunny and a gentle breeze\n",
              "7   24-02-18  31°  21°            Sunny and a gentle breeze\n",
              "8   24-02-19  31°  21°            Sunny and a gentle breeze\n",
              "9   24-02-20  32°  21°            Sunny and a gentle breeze\n",
              "10  24-02-21  32°  21°            Sunny and a gentle breeze\n",
              "11  24-02-22  33°  22°            Sunny and a gentle breeze\n",
              "12  24-02-23  32°  23°          Sunny and a moderate breeze"
            ]
          },
          "metadata": {},
          "output_type": "display_data"
        }
      ],
      "source": [
        "display(df)"
      ]
    },
    {
      "cell_type": "code",
      "execution_count": 30,
      "metadata": {
        "id": "say8zcNTd2YY"
      },
      "outputs": [],
      "source": [
        "df.High=df.High.replace('\\°','',regex=True).astype(float)\n",
        "df.Low=df.Low.replace('\\°','',regex=True).astype(float)"
      ]
    },
    {
      "cell_type": "code",
      "execution_count": 31,
      "metadata": {
        "colab": {
          "base_uri": "https://localhost:8080/",
          "height": 623
        },
        "id": "3yTiBrf2eYRw",
        "outputId": "2db6aa18-a613-40d8-d6b0-4ca04995e7c1"
      },
      "outputs": [
        {
          "data": {
            "text/html": [
              "<div>\n",
              "<style scoped>\n",
              "    .dataframe tbody tr th:only-of-type {\n",
              "        vertical-align: middle;\n",
              "    }\n",
              "\n",
              "    .dataframe tbody tr th {\n",
              "        vertical-align: top;\n",
              "    }\n",
              "\n",
              "    .dataframe thead th {\n",
              "        text-align: right;\n",
              "    }\n",
              "</style>\n",
              "<table border=\"1\" class=\"dataframe\">\n",
              "  <thead>\n",
              "    <tr style=\"text-align: right;\">\n",
              "      <th></th>\n",
              "      <th>Date</th>\n",
              "      <th>High</th>\n",
              "      <th>Low</th>\n",
              "      <th>Summary</th>\n",
              "    </tr>\n",
              "  </thead>\n",
              "  <tbody>\n",
              "    <tr>\n",
              "      <th>0</th>\n",
              "      <td>24-02-11</td>\n",
              "      <td>30.0</td>\n",
              "      <td>25.0</td>\n",
              "      <td>Partly cloudy and light winds</td>\n",
              "    </tr>\n",
              "    <tr>\n",
              "      <th>1</th>\n",
              "      <td>24-02-12</td>\n",
              "      <td>30.0</td>\n",
              "      <td>21.0</td>\n",
              "      <td>Sunny and a gentle breeze</td>\n",
              "    </tr>\n",
              "    <tr>\n",
              "      <th>2</th>\n",
              "      <td>24-02-13</td>\n",
              "      <td>30.0</td>\n",
              "      <td>23.0</td>\n",
              "      <td>Sunny and a gentle breeze</td>\n",
              "    </tr>\n",
              "    <tr>\n",
              "      <th>3</th>\n",
              "      <td>24-02-14</td>\n",
              "      <td>31.0</td>\n",
              "      <td>23.0</td>\n",
              "      <td>Sunny intervals and a gentle breeze</td>\n",
              "    </tr>\n",
              "    <tr>\n",
              "      <th>4</th>\n",
              "      <td>24-02-15</td>\n",
              "      <td>31.0</td>\n",
              "      <td>21.0</td>\n",
              "      <td>Sunny intervals and a gentle breeze</td>\n",
              "    </tr>\n",
              "    <tr>\n",
              "      <th>5</th>\n",
              "      <td>24-02-16</td>\n",
              "      <td>31.0</td>\n",
              "      <td>21.0</td>\n",
              "      <td>Sunny and a gentle breeze</td>\n",
              "    </tr>\n",
              "    <tr>\n",
              "      <th>6</th>\n",
              "      <td>24-02-17</td>\n",
              "      <td>31.0</td>\n",
              "      <td>21.0</td>\n",
              "      <td>Sunny and a gentle breeze</td>\n",
              "    </tr>\n",
              "    <tr>\n",
              "      <th>7</th>\n",
              "      <td>24-02-18</td>\n",
              "      <td>31.0</td>\n",
              "      <td>21.0</td>\n",
              "      <td>Sunny and a gentle breeze</td>\n",
              "    </tr>\n",
              "    <tr>\n",
              "      <th>8</th>\n",
              "      <td>24-02-19</td>\n",
              "      <td>31.0</td>\n",
              "      <td>21.0</td>\n",
              "      <td>Sunny and a gentle breeze</td>\n",
              "    </tr>\n",
              "    <tr>\n",
              "      <th>9</th>\n",
              "      <td>24-02-20</td>\n",
              "      <td>32.0</td>\n",
              "      <td>21.0</td>\n",
              "      <td>Sunny and a gentle breeze</td>\n",
              "    </tr>\n",
              "    <tr>\n",
              "      <th>10</th>\n",
              "      <td>24-02-21</td>\n",
              "      <td>32.0</td>\n",
              "      <td>21.0</td>\n",
              "      <td>Sunny and a gentle breeze</td>\n",
              "    </tr>\n",
              "    <tr>\n",
              "      <th>11</th>\n",
              "      <td>24-02-22</td>\n",
              "      <td>33.0</td>\n",
              "      <td>22.0</td>\n",
              "      <td>Sunny and a gentle breeze</td>\n",
              "    </tr>\n",
              "    <tr>\n",
              "      <th>12</th>\n",
              "      <td>24-02-23</td>\n",
              "      <td>32.0</td>\n",
              "      <td>23.0</td>\n",
              "      <td>Sunny and a moderate breeze</td>\n",
              "    </tr>\n",
              "  </tbody>\n",
              "</table>\n",
              "</div>"
            ],
            "text/plain": [
              "        Date  High   Low                              Summary\n",
              "0   24-02-11  30.0  25.0        Partly cloudy and light winds\n",
              "1   24-02-12  30.0  21.0            Sunny and a gentle breeze\n",
              "2   24-02-13  30.0  23.0            Sunny and a gentle breeze\n",
              "3   24-02-14  31.0  23.0  Sunny intervals and a gentle breeze\n",
              "4   24-02-15  31.0  21.0  Sunny intervals and a gentle breeze\n",
              "5   24-02-16  31.0  21.0            Sunny and a gentle breeze\n",
              "6   24-02-17  31.0  21.0            Sunny and a gentle breeze\n",
              "7   24-02-18  31.0  21.0            Sunny and a gentle breeze\n",
              "8   24-02-19  31.0  21.0            Sunny and a gentle breeze\n",
              "9   24-02-20  32.0  21.0            Sunny and a gentle breeze\n",
              "10  24-02-21  32.0  21.0            Sunny and a gentle breeze\n",
              "11  24-02-22  33.0  22.0            Sunny and a gentle breeze\n",
              "12  24-02-23  32.0  23.0          Sunny and a moderate breeze"
            ]
          },
          "metadata": {},
          "output_type": "display_data"
        }
      ],
      "source": [
        "display(df)"
      ]
    },
    {
      "cell_type": "code",
      "execution_count": 32,
      "metadata": {
        "colab": {
          "base_uri": "https://localhost:8080/"
        },
        "id": "fv8ZIvM0edVm",
        "outputId": "3a10c163-46c3-484a-8fbc-61a9666a6917"
      },
      "outputs": [
        {
          "data": {
            "text/plain": [
              "['Chennai', '-', 'Weather', 'warnings', 'issued']"
            ]
          },
          "execution_count": 32,
          "metadata": {},
          "output_type": "execute_result"
        }
      ],
      "source": [
        "#location=soup.find('div', attrs={'class' : 'wr-c-location'})\n",
        "location=soup.find('h1', attrs={'id':'wr-location-name-id'})\n",
        "location.text.split()"
      ]
    },
    {
      "cell_type": "code",
      "execution_count": 33,
      "metadata": {
        "id": "4MD2y9lNfegT"
      },
      "outputs": [],
      "source": [
        "filename_csv=location.text.split()[0]+'csv'\n",
        "df.to_csv(filename_csv, index=None)"
      ]
    },
    {
      "cell_type": "code",
      "execution_count": 34,
      "metadata": {
        "id": "TqnBXJobfyGb"
      },
      "outputs": [
        {
          "ename": "ValueError",
          "evalue": "No engine for filetype: ''",
          "output_type": "error",
          "traceback": [
            "\u001b[0;31m---------------------------------------------------------------------------\u001b[0m",
            "\u001b[0;31mOptionError\u001b[0m                               Traceback (most recent call last)",
            "File \u001b[0;32m~/Library/Python/3.9/lib/python/site-packages/pandas/io/excel/_base.py:1136\u001b[0m, in \u001b[0;36mExcelWriter.__new__\u001b[0;34m(cls, path, engine, date_format, datetime_format, mode, storage_options, if_sheet_exists, engine_kwargs)\u001b[0m\n\u001b[1;32m   1135\u001b[0m \u001b[38;5;28;01mtry\u001b[39;00m:\n\u001b[0;32m-> 1136\u001b[0m     engine \u001b[38;5;241m=\u001b[39m \u001b[43mconfig\u001b[49m\u001b[38;5;241;43m.\u001b[39;49m\u001b[43mget_option\u001b[49m\u001b[43m(\u001b[49m\u001b[38;5;124;43mf\u001b[39;49m\u001b[38;5;124;43m\"\u001b[39;49m\u001b[38;5;124;43mio.excel.\u001b[39;49m\u001b[38;5;132;43;01m{\u001b[39;49;00m\u001b[43mext\u001b[49m\u001b[38;5;132;43;01m}\u001b[39;49;00m\u001b[38;5;124;43m.writer\u001b[39;49m\u001b[38;5;124;43m\"\u001b[39;49m\u001b[43m,\u001b[49m\u001b[43m \u001b[49m\u001b[43msilent\u001b[49m\u001b[38;5;241;43m=\u001b[39;49m\u001b[38;5;28;43;01mTrue\u001b[39;49;00m\u001b[43m)\u001b[49m\n\u001b[1;32m   1137\u001b[0m     \u001b[38;5;28;01mif\u001b[39;00m engine \u001b[38;5;241m==\u001b[39m \u001b[38;5;124m\"\u001b[39m\u001b[38;5;124mauto\u001b[39m\u001b[38;5;124m\"\u001b[39m:\n",
            "File \u001b[0;32m~/Library/Python/3.9/lib/python/site-packages/pandas/_config/config.py:274\u001b[0m, in \u001b[0;36mCallableDynamicDoc.__call__\u001b[0;34m(self, *args, **kwds)\u001b[0m\n\u001b[1;32m    273\u001b[0m \u001b[38;5;28;01mdef\u001b[39;00m \u001b[38;5;21m__call__\u001b[39m(\u001b[38;5;28mself\u001b[39m, \u001b[38;5;241m*\u001b[39margs, \u001b[38;5;241m*\u001b[39m\u001b[38;5;241m*\u001b[39mkwds) \u001b[38;5;241m-\u001b[39m\u001b[38;5;241m>\u001b[39m T:\n\u001b[0;32m--> 274\u001b[0m     \u001b[38;5;28;01mreturn\u001b[39;00m \u001b[38;5;28;43mself\u001b[39;49m\u001b[38;5;241;43m.\u001b[39;49m\u001b[38;5;18;43m__func__\u001b[39;49m\u001b[43m(\u001b[49m\u001b[38;5;241;43m*\u001b[39;49m\u001b[43margs\u001b[49m\u001b[43m,\u001b[49m\u001b[43m \u001b[49m\u001b[38;5;241;43m*\u001b[39;49m\u001b[38;5;241;43m*\u001b[39;49m\u001b[43mkwds\u001b[49m\u001b[43m)\u001b[49m\n",
            "File \u001b[0;32m~/Library/Python/3.9/lib/python/site-packages/pandas/_config/config.py:146\u001b[0m, in \u001b[0;36m_get_option\u001b[0;34m(pat, silent)\u001b[0m\n\u001b[1;32m    145\u001b[0m \u001b[38;5;28;01mdef\u001b[39;00m \u001b[38;5;21m_get_option\u001b[39m(pat: \u001b[38;5;28mstr\u001b[39m, silent: \u001b[38;5;28mbool\u001b[39m \u001b[38;5;241m=\u001b[39m \u001b[38;5;28;01mFalse\u001b[39;00m) \u001b[38;5;241m-\u001b[39m\u001b[38;5;241m>\u001b[39m Any:\n\u001b[0;32m--> 146\u001b[0m     key \u001b[38;5;241m=\u001b[39m \u001b[43m_get_single_key\u001b[49m\u001b[43m(\u001b[49m\u001b[43mpat\u001b[49m\u001b[43m,\u001b[49m\u001b[43m \u001b[49m\u001b[43msilent\u001b[49m\u001b[43m)\u001b[49m\n\u001b[1;32m    148\u001b[0m     \u001b[38;5;66;03m# walk the nested dict\u001b[39;00m\n",
            "File \u001b[0;32m~/Library/Python/3.9/lib/python/site-packages/pandas/_config/config.py:132\u001b[0m, in \u001b[0;36m_get_single_key\u001b[0;34m(pat, silent)\u001b[0m\n\u001b[1;32m    131\u001b[0m         _warn_if_deprecated(pat)\n\u001b[0;32m--> 132\u001b[0m     \u001b[38;5;28;01mraise\u001b[39;00m OptionError(\u001b[38;5;124mf\u001b[39m\u001b[38;5;124m\"\u001b[39m\u001b[38;5;124mNo such keys(s): \u001b[39m\u001b[38;5;132;01m{\u001b[39;00m\u001b[38;5;28mrepr\u001b[39m(pat)\u001b[38;5;132;01m}\u001b[39;00m\u001b[38;5;124m\"\u001b[39m)\n\u001b[1;32m    133\u001b[0m \u001b[38;5;28;01mif\u001b[39;00m \u001b[38;5;28mlen\u001b[39m(keys) \u001b[38;5;241m>\u001b[39m \u001b[38;5;241m1\u001b[39m:\n",
            "\u001b[0;31mOptionError\u001b[0m: \"No such keys(s): 'io.excel..writer'\"",
            "\nThe above exception was the direct cause of the following exception:\n",
            "\u001b[0;31mValueError\u001b[0m                                Traceback (most recent call last)",
            "Cell \u001b[0;32mIn[34], line 2\u001b[0m\n\u001b[1;32m      1\u001b[0m filename_xlsx\u001b[38;5;241m=\u001b[39mlocation\u001b[38;5;241m.\u001b[39mtext\u001b[38;5;241m.\u001b[39msplit()[\u001b[38;5;241m0\u001b[39m]\u001b[38;5;241m+\u001b[39m\u001b[38;5;124m'\u001b[39m\u001b[38;5;124mxlsx\u001b[39m\u001b[38;5;124m'\u001b[39m\n\u001b[0;32m----> 2\u001b[0m \u001b[43mdf\u001b[49m\u001b[38;5;241;43m.\u001b[39;49m\u001b[43mto_excel\u001b[49m\u001b[43m(\u001b[49m\u001b[43mfilename_xlsx\u001b[49m\u001b[43m)\u001b[49m\n",
            "File \u001b[0;32m~/Library/Python/3.9/lib/python/site-packages/pandas/util/_decorators.py:333\u001b[0m, in \u001b[0;36mdeprecate_nonkeyword_arguments.<locals>.decorate.<locals>.wrapper\u001b[0;34m(*args, **kwargs)\u001b[0m\n\u001b[1;32m    327\u001b[0m \u001b[38;5;28;01mif\u001b[39;00m \u001b[38;5;28mlen\u001b[39m(args) \u001b[38;5;241m>\u001b[39m num_allow_args:\n\u001b[1;32m    328\u001b[0m     warnings\u001b[38;5;241m.\u001b[39mwarn(\n\u001b[1;32m    329\u001b[0m         msg\u001b[38;5;241m.\u001b[39mformat(arguments\u001b[38;5;241m=\u001b[39m_format_argument_list(allow_args)),\n\u001b[1;32m    330\u001b[0m         \u001b[38;5;167;01mFutureWarning\u001b[39;00m,\n\u001b[1;32m    331\u001b[0m         stacklevel\u001b[38;5;241m=\u001b[39mfind_stack_level(),\n\u001b[1;32m    332\u001b[0m     )\n\u001b[0;32m--> 333\u001b[0m \u001b[38;5;28;01mreturn\u001b[39;00m \u001b[43mfunc\u001b[49m\u001b[43m(\u001b[49m\u001b[38;5;241;43m*\u001b[39;49m\u001b[43margs\u001b[49m\u001b[43m,\u001b[49m\u001b[43m \u001b[49m\u001b[38;5;241;43m*\u001b[39;49m\u001b[38;5;241;43m*\u001b[39;49m\u001b[43mkwargs\u001b[49m\u001b[43m)\u001b[49m\n",
            "File \u001b[0;32m~/Library/Python/3.9/lib/python/site-packages/pandas/core/generic.py:2414\u001b[0m, in \u001b[0;36mNDFrame.to_excel\u001b[0;34m(self, excel_writer, sheet_name, na_rep, float_format, columns, header, index, index_label, startrow, startcol, engine, merge_cells, inf_rep, freeze_panes, storage_options, engine_kwargs)\u001b[0m\n\u001b[1;32m   2401\u001b[0m \u001b[38;5;28;01mfrom\u001b[39;00m \u001b[38;5;21;01mpandas\u001b[39;00m\u001b[38;5;21;01m.\u001b[39;00m\u001b[38;5;21;01mio\u001b[39;00m\u001b[38;5;21;01m.\u001b[39;00m\u001b[38;5;21;01mformats\u001b[39;00m\u001b[38;5;21;01m.\u001b[39;00m\u001b[38;5;21;01mexcel\u001b[39;00m \u001b[38;5;28;01mimport\u001b[39;00m ExcelFormatter\n\u001b[1;32m   2403\u001b[0m formatter \u001b[38;5;241m=\u001b[39m ExcelFormatter(\n\u001b[1;32m   2404\u001b[0m     df,\n\u001b[1;32m   2405\u001b[0m     na_rep\u001b[38;5;241m=\u001b[39mna_rep,\n\u001b[0;32m   (...)\u001b[0m\n\u001b[1;32m   2412\u001b[0m     inf_rep\u001b[38;5;241m=\u001b[39minf_rep,\n\u001b[1;32m   2413\u001b[0m )\n\u001b[0;32m-> 2414\u001b[0m \u001b[43mformatter\u001b[49m\u001b[38;5;241;43m.\u001b[39;49m\u001b[43mwrite\u001b[49m\u001b[43m(\u001b[49m\n\u001b[1;32m   2415\u001b[0m \u001b[43m    \u001b[49m\u001b[43mexcel_writer\u001b[49m\u001b[43m,\u001b[49m\n\u001b[1;32m   2416\u001b[0m \u001b[43m    \u001b[49m\u001b[43msheet_name\u001b[49m\u001b[38;5;241;43m=\u001b[39;49m\u001b[43msheet_name\u001b[49m\u001b[43m,\u001b[49m\n\u001b[1;32m   2417\u001b[0m \u001b[43m    \u001b[49m\u001b[43mstartrow\u001b[49m\u001b[38;5;241;43m=\u001b[39;49m\u001b[43mstartrow\u001b[49m\u001b[43m,\u001b[49m\n\u001b[1;32m   2418\u001b[0m \u001b[43m    \u001b[49m\u001b[43mstartcol\u001b[49m\u001b[38;5;241;43m=\u001b[39;49m\u001b[43mstartcol\u001b[49m\u001b[43m,\u001b[49m\n\u001b[1;32m   2419\u001b[0m \u001b[43m    \u001b[49m\u001b[43mfreeze_panes\u001b[49m\u001b[38;5;241;43m=\u001b[39;49m\u001b[43mfreeze_panes\u001b[49m\u001b[43m,\u001b[49m\n\u001b[1;32m   2420\u001b[0m \u001b[43m    \u001b[49m\u001b[43mengine\u001b[49m\u001b[38;5;241;43m=\u001b[39;49m\u001b[43mengine\u001b[49m\u001b[43m,\u001b[49m\n\u001b[1;32m   2421\u001b[0m \u001b[43m    \u001b[49m\u001b[43mstorage_options\u001b[49m\u001b[38;5;241;43m=\u001b[39;49m\u001b[43mstorage_options\u001b[49m\u001b[43m,\u001b[49m\n\u001b[1;32m   2422\u001b[0m \u001b[43m    \u001b[49m\u001b[43mengine_kwargs\u001b[49m\u001b[38;5;241;43m=\u001b[39;49m\u001b[43mengine_kwargs\u001b[49m\u001b[43m,\u001b[49m\n\u001b[1;32m   2423\u001b[0m \u001b[43m\u001b[49m\u001b[43m)\u001b[49m\n",
            "File \u001b[0;32m~/Library/Python/3.9/lib/python/site-packages/pandas/io/formats/excel.py:943\u001b[0m, in \u001b[0;36mExcelFormatter.write\u001b[0;34m(self, writer, sheet_name, startrow, startcol, freeze_panes, engine, storage_options, engine_kwargs)\u001b[0m\n\u001b[1;32m    941\u001b[0m     need_save \u001b[38;5;241m=\u001b[39m \u001b[38;5;28;01mFalse\u001b[39;00m\n\u001b[1;32m    942\u001b[0m \u001b[38;5;28;01melse\u001b[39;00m:\n\u001b[0;32m--> 943\u001b[0m     writer \u001b[38;5;241m=\u001b[39m \u001b[43mExcelWriter\u001b[49m\u001b[43m(\u001b[49m\n\u001b[1;32m    944\u001b[0m \u001b[43m        \u001b[49m\u001b[43mwriter\u001b[49m\u001b[43m,\u001b[49m\n\u001b[1;32m    945\u001b[0m \u001b[43m        \u001b[49m\u001b[43mengine\u001b[49m\u001b[38;5;241;43m=\u001b[39;49m\u001b[43mengine\u001b[49m\u001b[43m,\u001b[49m\n\u001b[1;32m    946\u001b[0m \u001b[43m        \u001b[49m\u001b[43mstorage_options\u001b[49m\u001b[38;5;241;43m=\u001b[39;49m\u001b[43mstorage_options\u001b[49m\u001b[43m,\u001b[49m\n\u001b[1;32m    947\u001b[0m \u001b[43m        \u001b[49m\u001b[43mengine_kwargs\u001b[49m\u001b[38;5;241;43m=\u001b[39;49m\u001b[43mengine_kwargs\u001b[49m\u001b[43m,\u001b[49m\n\u001b[1;32m    948\u001b[0m \u001b[43m    \u001b[49m\u001b[43m)\u001b[49m\n\u001b[1;32m    949\u001b[0m     need_save \u001b[38;5;241m=\u001b[39m \u001b[38;5;28;01mTrue\u001b[39;00m\n\u001b[1;32m    951\u001b[0m \u001b[38;5;28;01mtry\u001b[39;00m:\n",
            "File \u001b[0;32m~/Library/Python/3.9/lib/python/site-packages/pandas/io/excel/_base.py:1140\u001b[0m, in \u001b[0;36mExcelWriter.__new__\u001b[0;34m(cls, path, engine, date_format, datetime_format, mode, storage_options, if_sheet_exists, engine_kwargs)\u001b[0m\n\u001b[1;32m   1138\u001b[0m             engine \u001b[38;5;241m=\u001b[39m get_default_engine(ext, mode\u001b[38;5;241m=\u001b[39m\u001b[38;5;124m\"\u001b[39m\u001b[38;5;124mwriter\u001b[39m\u001b[38;5;124m\"\u001b[39m)\n\u001b[1;32m   1139\u001b[0m     \u001b[38;5;28;01mexcept\u001b[39;00m \u001b[38;5;167;01mKeyError\u001b[39;00m \u001b[38;5;28;01mas\u001b[39;00m err:\n\u001b[0;32m-> 1140\u001b[0m         \u001b[38;5;28;01mraise\u001b[39;00m \u001b[38;5;167;01mValueError\u001b[39;00m(\u001b[38;5;124mf\u001b[39m\u001b[38;5;124m\"\u001b[39m\u001b[38;5;124mNo engine for filetype: \u001b[39m\u001b[38;5;124m'\u001b[39m\u001b[38;5;132;01m{\u001b[39;00mext\u001b[38;5;132;01m}\u001b[39;00m\u001b[38;5;124m'\u001b[39m\u001b[38;5;124m\"\u001b[39m) \u001b[38;5;28;01mfrom\u001b[39;00m \u001b[38;5;21;01merr\u001b[39;00m\n\u001b[1;32m   1142\u001b[0m \u001b[38;5;66;03m# for mypy\u001b[39;00m\n\u001b[1;32m   1143\u001b[0m \u001b[38;5;28;01massert\u001b[39;00m engine \u001b[38;5;129;01mis\u001b[39;00m \u001b[38;5;129;01mnot\u001b[39;00m \u001b[38;5;28;01mNone\u001b[39;00m\n",
            "\u001b[0;31mValueError\u001b[0m: No engine for filetype: ''"
          ]
        }
      ],
      "source": [
        "filename_xlsx=location.text.split()[0]+'xlsx'\n",
        "df.to_excel(filename_xlsx)"
      ]
    }
  ],
  "metadata": {
    "colab": {
      "provenance": []
    },
    "kernelspec": {
      "display_name": "Python 3",
      "name": "python3"
    },
    "language_info": {
      "codemirror_mode": {
        "name": "ipython",
        "version": 3
      },
      "file_extension": ".py",
      "mimetype": "text/x-python",
      "name": "python",
      "nbconvert_exporter": "python",
      "pygments_lexer": "ipython3",
      "version": "3.9.6"
    }
  },
  "nbformat": 4,
  "nbformat_minor": 0
}
